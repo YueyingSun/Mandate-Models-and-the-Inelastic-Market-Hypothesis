{
 "cells": [
  {
   "cell_type": "markdown",
   "id": "d2b10119",
   "metadata": {},
   "source": [
    "# Section 6 "
   ]
  },
  {
   "cell_type": "markdown",
   "id": "7cab7407",
   "metadata": {},
   "source": [
    "**Yueying Sun and Johannes Ruf**\n",
    "\n",
    "January 2024"
   ]
  },
  {
   "cell_type": "markdown",
   "id": "41984006",
   "metadata": {},
   "source": [
    "In this notebook, we simulate the stock value path given that the bond value path follows a binomial model. "
   ]
  },
  {
   "cell_type": "markdown",
   "id": "83478bfb",
   "metadata": {},
   "source": [
    "First, we import all modules that we need and seed the random number generator. "
   ]
  },
  {
   "cell_type": "code",
   "execution_count": 1,
   "id": "02727d22",
   "metadata": {},
   "outputs": [],
   "source": [
    "import numpy as np\n",
    "import matplotlib.pyplot as plt\n",
    "import seaborn as sns\n",
    "sns.set()"
   ]
  },
  {
   "cell_type": "code",
   "execution_count": 2,
   "id": "82e81967",
   "metadata": {},
   "outputs": [],
   "source": [
    "rng = np.random.default_rng(seed=123456)"
   ]
  },
  {
   "cell_type": "markdown",
   "id": "8493fd19",
   "metadata": {},
   "source": [
    "## Bond price\n",
    "\n",
    "We assume the bond $(B_t)_{t \\in [0,T]}$ follows a $n$-step binomial model. Let $dt = T/n$. Fix a set of points $0 < t_1 < \\ldots < t_n \\leq T $, where $t_i = dt * i$. Fix $B_0$ as a constant and for $i = \\{1,2,3,...,n\\}$, define\n",
    "$$B_{i} = B_{i-1} e^{Y_i},$$\n",
    "where $(Y_1, \\ldots, Y_n)$ are i.i.d random variables that takes value either $\\sigma * dt$ with probability $p$ or $- \\sigma * dt$ with probability $1-p$."
   ]
  },
  {
   "cell_type": "code",
   "execution_count": 3,
   "id": "6a1207b4",
   "metadata": {},
   "outputs": [],
   "source": [
    "def simulate_bond(rng, σ, T, n, B0, p):\n",
    "    \n",
    "    dt = T / n\n",
    "    u = np.exp(σ * dt)\n",
    "    d = np.exp(- σ * dt)\n",
    "    \n",
    "    #generate Bernoulli\n",
    "    ud_simulation = rng.choice([u,d], n, p = [p,1-p])\n",
    "    \n",
    "    #simulate one path\n",
    "    B_tmp = B0 * ud_simulation.cumprod()\n",
    "    B = np.insert(B_tmp, 0, B0)\n",
    "    return B"
   ]
  },
  {
   "cell_type": "markdown",
   "id": "8419e296",
   "metadata": {},
   "source": [
    "## Stock price\n",
    "\n",
    "Now we compute the mandate-implied stock value based on three different mandates. We derive the mandate-implied value $(P_t)_{t \\in [0,T]}$ for a specific bond value path $(B_t)_{t \\in [0,T]}$.\n",
    "\n",
    "In each case, we assume $\\mathfrak{m}^{(j)}_0 \\ (j = 1, 2, 3)$ is constant with value $0.65$ and correspondingly, the mandate-implied value $P^j_0$ satisfies\n",
    "$$P^j_0 = \\frac{\\mathfrak{m}^{(j)}_0(1)}{1 - \\mathfrak{m}^{(j)}_0(1)} B_0 \\ (j = 1, 2, 3).$$"
   ]
  },
  {
   "cell_type": "markdown",
   "id": "fee3366c",
   "metadata": {},
   "source": [
    "### Case 1\n",
    "\n",
    "First we consider a constant mandate. Let $\\mathfrak{m}^{(1)}_{t_i} = 0.65$ for each $i \\in \\{1,2, \\ldots, n\\}$ and the mandate-implied value function satisfies\n",
    "$$P^{(1)}_i = \\frac{\\mathfrak{m}^{(1)}_i(1)}{1 - \\mathfrak{m}^{(1)}_i(1)} B_i.$$\n"
   ]
  },
  {
   "cell_type": "code",
   "execution_count": 4,
   "id": "57859282",
   "metadata": {},
   "outputs": [],
   "source": [
    "def compute_stock_m1(B, T, n, P0, m=0.65):\n",
    "    dt = T / n\n",
    "    \n",
    "    P = np.zeros(n+1)\n",
    "    P[0] = P0\n",
    "    \n",
    "    for i in range(n):\n",
    "        P[i+1] = m / (1 - m) * B[i+1]\n",
    "        \n",
    "    return P"
   ]
  },
  {
   "cell_type": "markdown",
   "id": "e5c3a476",
   "metadata": {},
   "source": [
    "### Case 2\n",
    "\n",
    "We now consider a mandate that yields higher volatility in stock than bond. We assume that the mandate-implied value is iteratively given as\n",
    "$$P^{(2)}_i = \\left(\\frac{B_{i}}{B_{i-1}} \\right)^2 P^{(2)}_{i-1}, \\quad i \\in \\{1,2, \\ldots, n\\}.$$"
   ]
  },
  {
   "cell_type": "code",
   "execution_count": 5,
   "id": "3659b030",
   "metadata": {},
   "outputs": [],
   "source": [
    "def compute_stock_m2(B, T, n, P0):\n",
    "    dt = T / n\n",
    "    \n",
    "    P = np.zeros(n+1)\n",
    "    P[0] = P0\n",
    "    \n",
    "    for i in range(n):\n",
    "        P[i+1] = P[i] * (B[i+1] / B[i])**2\n",
    "        \n",
    "    return P"
   ]
  },
  {
   "cell_type": "markdown",
   "id": "2c072578",
   "metadata": {},
   "source": [
    "### Case 3\n",
    "\n",
    "We at last consider a mandate that yields lower volatility in stock than bond.  We assume that the mandate-implied value is iteratively given as\n",
    "$$P^{(3)}_i = \\sqrt{\\frac{B_{i}}{B_{i-1}}} P^{(3)}_{i-1}, \\quad i \\in \\{1,2, \\ldots, n\\}.$$"
   ]
  },
  {
   "cell_type": "code",
   "execution_count": 6,
   "id": "e228ca54",
   "metadata": {},
   "outputs": [],
   "source": [
    "def compute_stock_m3(B, T, n, P0):\n",
    "    dt = T / n\n",
    "    \n",
    "    P = np.zeros(n+1)\n",
    "    P[0] = P0\n",
    "    \n",
    "    for i in range(n):\n",
    "        P[i+1] = P[i] * (B[i+1] / B[i]) ** 0.5\n",
    "         \n",
    "    return P"
   ]
  },
  {
   "cell_type": "markdown",
   "id": "aad1247c",
   "metadata": {},
   "source": [
    "## Simulation\n",
    "We first give the following parameters."
   ]
  },
  {
   "cell_type": "code",
   "execution_count": 7,
   "id": "57f7325c",
   "metadata": {},
   "outputs": [],
   "source": [
    "T = 1\n",
    "n = 250 #how many periods of time\n",
    "\n",
    "σ = 0.2\n",
    "p = 0.5\n",
    "\n",
    "B0 = 1\n",
    "m0 = 0.65 #initial manadate\n",
    "P0 = B0 * m0 / (1 - m0)"
   ]
  },
  {
   "cell_type": "markdown",
   "id": "f723a3cc",
   "metadata": {},
   "source": [
    "The below cell runs one simulation for each of the three mandate-implied stock values above."
   ]
  },
  {
   "cell_type": "code",
   "execution_count": 8,
   "id": "65e971a9",
   "metadata": {},
   "outputs": [
    {
     "data": {
      "image/png": "[encoded data removed]",
      "text/plain": [
       "<Figure size 432x288 with 1 Axes>"
      ]
     },
     "metadata": {},
     "output_type": "display_data"
    }
   ],
   "source": [
    "bond_path = simulate_bond(rng, σ, T, n, B0, p)\n",
    "bond_path_norm = bond_path/B0\n",
    "\n",
    "stock_path1 = compute_stock_m1(bond_path, T, n, P0)\n",
    "stock_path_norm1 = stock_path1/P0\n",
    "\n",
    "stock_path2 = compute_stock_m2(bond_path, T, n, P0)\n",
    "stock_path_norm2 = stock_path2/P0\n",
    "\n",
    "stock_path3 = compute_stock_m3(bond_path, T, n, P0)\n",
    "stock_path_norm3 = stock_path3/P0\n",
    "\n",
    "_, ax = plt.subplots()\n",
    "ax.plot(bond_path_norm, linestyle = 'dashed', color = '#1f77b4');\n",
    "ax.plot(stock_path_norm1,  color = '#ff7f0e');#con\n",
    "ax.plot(stock_path_norm2,  color = '#2ca02c');#more\n",
    "ax.plot(stock_path_norm3,  color = '#9467bd');#less\n",
    "ax.set_ylabel('Value (in dollars)')\n",
    "ax.set_xlabel('Time')\n",
    "plt.legend(['$B$','$\\mathfrak{p}^{(1)}(B)$','$\\mathfrak{p}^{(2)}(B)$','$\\mathfrak{p}^{(3)}(B)$'], frameon=False);\n",
    "#plt.savefig('bm3_simuin1.png',bbox_inches='tight');"
   ]
  },
  {
   "cell_type": "markdown",
   "id": "d7ad7276",
   "metadata": {},
   "source": [
    "The below cell computes each return of the bond and the three mandate-implied stock values above. "
   ]
  },
  {
   "cell_type": "code",
   "execution_count": 9,
   "id": "caeb217c",
   "metadata": {},
   "outputs": [],
   "source": [
    "bondreturn = np.diff(bond_path_norm) / bond_path_norm[:-1]\n",
    "stockreturn1 = np.diff(stock_path_norm1) / stock_path_norm1[:-1]\n",
    "stockreturn2 = np.diff(stock_path_norm2) / stock_path_norm2[:-1]\n",
    "stockreturn3 = np.diff(stock_path_norm3) / stock_path_norm3[:-1]"
   ]
  },
  {
   "cell_type": "markdown",
   "id": "b9f07c40",
   "metadata": {},
   "source": [
    "Next we compute the annualised standard deviation of the above returns."
   ]
  },
  {
   "cell_type": "code",
   "execution_count": 10,
   "id": "49ace33d",
   "metadata": {},
   "outputs": [
    {
     "data": {
      "text/plain": [
       "0.01267083558457429"
      ]
     },
     "execution_count": 10,
     "metadata": {},
     "output_type": "execute_result"
    }
   ],
   "source": [
    "stockreturn1.std(ddof = 1) * np.sqrt(250)"
   ]
  },
  {
   "cell_type": "code",
   "execution_count": 11,
   "id": "24703b72",
   "metadata": {
    "scrolled": true
   },
   "outputs": [
    {
     "data": {
      "text/plain": [
       "0.025341679278484144"
      ]
     },
     "execution_count": 11,
     "metadata": {},
     "output_type": "execute_result"
    }
   ],
   "source": [
    "stockreturn2.std(ddof = 1) * np.sqrt(250)"
   ]
  },
  {
   "cell_type": "code",
   "execution_count": 12,
   "id": "370ba5f7",
   "metadata": {},
   "outputs": [
    {
     "data": {
      "text/plain": [
       "0.006335417285452722"
      ]
     },
     "execution_count": 12,
     "metadata": {},
     "output_type": "execute_result"
    }
   ],
   "source": [
    "stockreturn3.std(ddof = 1) * np.sqrt(250)"
   ]
  },
  {
   "cell_type": "code",
   "execution_count": null,
   "id": "5fe30164",
   "metadata": {},
   "outputs": [],
   "source": []
  },
  {
   "cell_type": "code",
   "execution_count": null,
   "id": "fe683ef3",
   "metadata": {},
   "outputs": [],
   "source": []
  },
  {
   "cell_type": "code",
   "execution_count": null,
   "id": "a9228729",
   "metadata": {},
   "outputs": [],
   "source": []
  }
 ],
 "metadata": {
  "kernelspec": {
   "display_name": "Python 3 (ipykernel)",
   "language": "python",
   "name": "python3"
  },
  "language_info": {
   "codemirror_mode": {
    "name": "ipython",
    "version": 3
   },
   "file_extension": ".py",
   "mimetype": "text/x-python",
   "name": "python",
   "nbconvert_exporter": "python",
   "pygments_lexer": "ipython3",
   "version": "3.11.5"
  }
 },
 "nbformat": 4,
 "nbformat_minor": 5
}
