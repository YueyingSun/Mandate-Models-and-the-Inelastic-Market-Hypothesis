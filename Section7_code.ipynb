{
 "cells": [
  {
   "cell_type": "markdown",
   "id": "b8abb2d1",
   "metadata": {},
   "source": [
    "# Section 7"
   ]
  },
  {
   "cell_type": "markdown",
   "id": "bb3b6b0a",
   "metadata": {},
   "source": [
    "**Yueying Sun and Johannes Ruf**\n",
    "\n",
    "January 2024"
   ]
  },
  {
   "cell_type": "markdown",
   "id": "c7f7ae58",
   "metadata": {},
   "source": [
    "In this notebook, we use Flow of Funds data to test our mandate model. We download all quarterly data (Z.1 Statistical Release) from Federal Reserve (link: https://www.federalreserve.gov/datadownload/Choose.aspx?rel=z1) and access the data we need by the series number."
   ]
  },
  {
   "cell_type": "markdown",
   "id": "872b8e33",
   "metadata": {},
   "source": [
    "## Preparation"
   ]
  },
  {
   "cell_type": "markdown",
   "id": "24651d75",
   "metadata": {},
   "source": [
    "First, we import all modules that we need and initialize the datapath, where we put the data downloaded from FoF. In particular, we use 'xml.etree.ElementTree' to get access to the data in xml file and we use the function 'minimize' from the modules 'scipy.optimize' to estimate the optimal parameter."
   ]
  },
  {
   "cell_type": "code",
   "execution_count": 48,
   "id": "130eab99",
   "metadata": {},
   "outputs": [],
   "source": [
    "import xml.etree.ElementTree as ET\n",
    "\n",
    "import numpy as np\n",
    "import pandas as pd\n",
    "\n",
    "import matplotlib.pyplot as plt\n",
    "import seaborn\n",
    "seaborn.set()\n",
    "\n",
    "from scipy.optimize import minimize\n",
    "\n",
    "datapath = './FRB_z1/'"
   ]
  },
  {
   "cell_type": "markdown",
   "id": "f1765498",
   "metadata": {},
   "source": [
    "We now choose to access the data through their series number. \n",
    "\n",
    "To test our mandate model, we assume that the bond value is the sum of US treasury and the corporate bond, and the equity value is the corporate equity."
   ]
  },
  {
   "cell_type": "markdown",
   "id": "901991f0",
   "metadata": {},
   "source": [
    "Series identifiers:\n",
    "\n",
    "### Table L210 US Treasury\n",
    "\n",
    "All sectors; Treasury securities; asset: FL893061105.Q\n",
    "\n",
    "Rest of the world; Treasury securities; asset: LM263061105.Q\n",
    "\n",
    "### Table L213 Corporate & Foreign Bonds\n",
    "\n",
    "All sectors; corporate and foreign bonds; asset: FL893063005.Q\n",
    "\n",
    "Rest of the world; corporate bonds; asset: LM263063005.Q\n",
    "\n",
    "### Table L223 Corporate Equities\n",
    "All sectors; corporate equities; asset: LM893064105.Q\n",
    "\n",
    "Rest of the world; U.S. corporate equities; asset: LM263064105.Q"
   ]
  },
  {
   "cell_type": "code",
   "execution_count": 49,
   "id": "7503e1f1",
   "metadata": {},
   "outputs": [],
   "source": [
    "SERIES_NAME_LIST = ['FL893061105.Q', 'LM263061105.Q', 'FL893063005.Q', 'LM263063005.Q', 'LM893064105.Q', 'LM263064105.Q']"
   ]
  },
  {
   "cell_type": "code",
   "execution_count": null,
   "id": "e56a6f8f",
   "metadata": {},
   "outputs": [],
   "source": [
    "tree = ET.parse(datapath + 'Z1_data.xml') \n",
    "root = tree.getroot()"
   ]
  },
  {
   "cell_type": "code",
   "execution_count": null,
   "id": "1aeab703",
   "metadata": {},
   "outputs": [],
   "source": [
    "namespace = {\n",
    "    'kf': 'http://www.federalreserve.gov/structure/compact/Z1_Z1',\n",
    "    'frb': 'http://www.federalreserve.gov/structure/compact/common'\n",
    "}\n",
    "\n",
    "data_lists = []\n",
    "time_lists = []\n",
    "\n",
    "for name in SERIES_NAME_LIST:\n",
    "    new_list_data = []\n",
    "    new_list_time = []\n",
    "    for series in root.findall('.//kf:Series', namespaces=namespace):\n",
    "        series_name = series.get('SERIES_NAME')\n",
    "        if series_name == name:\n",
    "            observations = series.findall('.//frb:Obs', namespaces=namespace)\n",
    "            \n",
    "            # Extract OBS_VALUE and TIME_PERIOD and store them in arrays\n",
    "            for obs in observations:\n",
    "                obs_value = obs.get('OBS_VALUE')\n",
    "                time_period = obs.get('TIME_PERIOD')\n",
    "                new_list_data.append(obs_value)\n",
    "                new_list_time.append(time_period)\n",
    "    data_lists.append(new_list_data)\n",
    "    time_lists.append(new_list_time)"
   ]
  },
  {
   "cell_type": "code",
   "execution_count": null,
   "id": "77bec1a2",
   "metadata": {},
   "outputs": [],
   "source": [
    "# Checking that all the time lists are the same\"\n",
    "all_identical = True\n",
    "for list_cand in time_lists:\n",
    "    all_identical &= (list_cand == time_lists[0])\n",
    "    \n",
    "assert all_identical"
   ]
  },
  {
   "cell_type": "code",
   "execution_count": null,
   "id": "f2fe2c9c",
   "metadata": {},
   "outputs": [],
   "source": [
    "df = pd.DataFrame(map(list, zip(*data_lists)), index=pd.to_datetime(time_lists[0])).apply(pd.to_numeric)\n",
    "df.columns = ['UST_All', 'UST_RoW', 'CB_All', 'CB_RoW', 'CE_All', 'CE_RoW']\n",
    "df = df.mask(df < 0).ffill()    #as before 1960, there are only annual data and others are coded as negative numbers"
   ]
  },
  {
   "cell_type": "code",
   "execution_count": null,
   "id": "5f6a5fd1",
   "metadata": {},
   "outputs": [],
   "source": [
    "df['UST'] = df['UST_All'] - df['UST_RoW']\n",
    "df['CB'] = df['CB_All'] - df['CB_RoW']\n",
    "\n",
    "df['equity'] = df['CE_All'] - df['CE_RoW']\n",
    "df['bond'] = df['UST'] + df['CB']"
   ]
  },
  {
   "cell_type": "code",
   "execution_count": null,
   "id": "c335ee28-abe5-4fca-b004-26a80b04e4b5",
   "metadata": {},
   "outputs": [],
   "source": [
    "df =  df[['bond', 'equity']].div(1_000_000).copy()    # to turn millions into trillions\n",
    "\n",
    "# some preparatory computations\n",
    "\n",
    "df['ratio'] = df['equity']/(df['equity'] + df['bond'])\n",
    "df['bond_ret'] = df['bond']/df['bond'].shift(1)\n",
    "df['equity_ret'] = df['equity']/df['equity'].shift(1)"
   ]
  },
  {
   "cell_type": "code",
   "execution_count": null,
   "id": "e424d548",
   "metadata": {
    "scrolled": true
   },
   "outputs": [],
   "source": [
    "df[['bond', 'equity']].loc['2000':].plot();\n",
    "plt.legend(['Bond', 'Equity'], frameon=False)\n",
    "plt.ylabel('Total capitalisation (in trillions)');\n",
    "plt.savefig('plots/bondequity.png');"
   ]
  },
  {
   "cell_type": "markdown",
   "id": "264196be",
   "metadata": {},
   "source": [
    "We can also plot the empirical mandate."
   ]
  },
  {
   "cell_type": "code",
   "execution_count": null,
   "id": "2c242c32",
   "metadata": {
    "scrolled": true
   },
   "outputs": [],
   "source": [
    "df['ratio'].loc['2000':].plot();\n",
    "plt.axhline(df['ratio'].loc['2000':].mean(), color='r', ls='--');\n",
    "plt.axhline(df['ratio'].loc['2000':].mean() - 1.96 * df['ratio'].loc['2000':].std(), color='g', ls='--');\n",
    "plt.axhline(df['ratio'].loc['2000':].mean() + 1.96 * df['ratio'].loc['2000':].std(), color='g', ls='--');\n",
    "plt.savefig('plots/empiricalmandate.png');"
   ]
  },
  {
   "cell_type": "code",
   "execution_count": null,
   "id": "111d2642",
   "metadata": {
    "scrolled": true
   },
   "outputs": [],
   "source": [
    "df['ratio'].loc['2000':].mean()"
   ]
  },
  {
   "cell_type": "markdown",
   "id": "c5392324",
   "metadata": {},
   "source": [
    "## Backtesting"
   ]
  },
  {
   "cell_type": "markdown",
   "id": "14cc4822",
   "metadata": {},
   "source": [
    "### Mandate model\n",
    "\n",
    "Fix $t \\in \\mathbb{N}$. Suppose the mandate-implied return function $f_t: (0, \\infty) \\rightarrow (0,\\infty)$ satisfies\n",
    "\n",
    "$$f_t = \\mathrm{id} ^{\\alpha^+}$$\n",
    "\n",
    "where $\\alpha^+ = \\max(\\alpha, 0)$. \n",
    "\n",
    "Let $i$ denote the $i$th sample $(i = 1,...., n)$, $y_i$ denote the stock price return (actually return + 1) and $x_i$ denote the bond price return (actually return + 1). Our **GOAL** is to find the **$\\alpha$** to minimise our loss function\n",
    "\n",
    "$$L(\\alpha) = \\sum_{i=1}^{n}(y_i - f_t(x_i))^2.$$"
   ]
  },
  {
   "cell_type": "markdown",
   "id": "2381a2d5",
   "metadata": {},
   "source": [
    "We use the 'minimize' function of the module 'scipy.optimize' to obtain the optimal parameter $\\alpha^*$. We first define the loss function in the cell below, which later is used in the 'minimize' function."
   ]
  },
  {
   "cell_type": "code",
   "execution_count": null,
   "id": "e3e21f90",
   "metadata": {},
   "outputs": [],
   "source": [
    "def loss_function1(α, x, y_target):\n",
    "    y_predicted = x ** α\n",
    "    return sum((y_predicted - y_target)**2)"
   ]
  },
  {
   "cell_type": "markdown",
   "id": "39f3e905",
   "metadata": {},
   "source": [
    "Now we approximate the optimal parameter $\\alpha^*$. We use different rolling window length $l = 2, 3, 8$ years. This means in the notation above, we have $n = 4l$ (as we have quarterly data) and for every $n$ data, we compute one $\\alpha$. We use the 'minimize' function from the 'scipy.optimize' module to find the optimal $\\alpha^*$."
   ]
  },
  {
   "cell_type": "code",
   "execution_count": null,
   "id": "78b91e09",
   "metadata": {},
   "outputs": [],
   "source": [
    "nlengths = [8, 12, 16]\n",
    "colors = ['#ff7f0e','#2ca02c','#9467bd'] #orange, green, purple"
   ]
  },
  {
   "cell_type": "code",
   "execution_count": null,
   "id": "46586212",
   "metadata": {},
   "outputs": [],
   "source": [
    "columns_alpha = ['alpha_' + str(n) for n in nlengths]\n",
    "columns_alpha_forecast = ['alpha_forecast_' + str(n) for n in nlengths]\n",
    "columns_alpha_error = ['alpha_error_' + str(n) for n in nlengths]\n",
    "\n",
    "plot_labels = (['$l = ' + str(int(n/4)) + '$' for n in nlengths] if all([(n/4).is_integer() for n in nlengths]) \n",
    "               else ['$l = ' + str(n/4) + '$' for n in nlengths])\n",
    "\n",
    "for a in columns_alpha:\n",
    "    df[a] = np.nan"
   ]
  },
  {
   "cell_type": "code",
   "execution_count": null,
   "id": "db5d8b9f",
   "metadata": {},
   "outputs": [],
   "source": [
    "for (n, a) in zip(nlengths, columns_alpha):\n",
    "    for i in range(len(df) - n + 1):\n",
    "        x = df.iloc[i:i+n]['bond_ret']\n",
    "        y = df.iloc[i:i+n]['equity_ret']\n",
    "        result = minimize(loss_function1, 1, args=(x, y)) #choose initial value as 1\n",
    "        df[a].iloc[n - 1 + i] = np.maximum(result.x, 0)"
   ]
  },
  {
   "cell_type": "code",
   "execution_count": null,
   "id": "3fc4ef59",
   "metadata": {},
   "outputs": [],
   "source": [
    "df[columns_alpha].loc['2000':].plot(color=colors)\n",
    "plt.ylabel('$\\\\alpha^*$')\n",
    "plt.legend(plot_labels, frameon=False);#as the data is seasonal\n",
    "plt.savefig('plots/estimate3_in1.png',bbox_inches='tight');"
   ]
  },
  {
   "cell_type": "markdown",
   "id": "86658204",
   "metadata": {},
   "source": [
    "Under different window lengths, we plot the model-implied stock value and the model prediction error. The model prediction error equals the difference between the equity value observation and the model-implied equity value."
   ]
  },
  {
   "cell_type": "code",
   "execution_count": null,
   "id": "cc78c4ea",
   "metadata": {},
   "outputs": [],
   "source": [
    "for (f, a) in zip(columns_alpha_forecast, columns_alpha):\n",
    "    df[f] = df['equity'].shift(1) * (df['bond_ret'] ** df[a].shift(1))"
   ]
  },
  {
   "cell_type": "code",
   "execution_count": null,
   "id": "9f92a634",
   "metadata": {},
   "outputs": [],
   "source": [
    "df[['equity'] + columns_alpha_forecast].loc['2000':].plot(color=['#1f77b4'] + colors)\n",
    "plt.legend(['Equity observations'] + ['Backtest equity value with ' + p for p in plot_labels], frameon=False);\n",
    "plt.ylabel('Total capitalisation (in trillions)');\n",
    "plt.savefig('plots/backtest12.png',bbox_inches='tight');"
   ]
  },
  {
   "cell_type": "code",
   "execution_count": null,
   "id": "b8fce0da",
   "metadata": {},
   "outputs": [],
   "source": [
    "df['error_equity_constant'] = df['equity'] - df['equity'].shift(1)\n",
    "\n",
    "for (e, f) in zip(columns_alpha_error, columns_alpha_forecast):\n",
    "    df[e] = df['equity'] - df[f]"
   ]
  },
  {
   "cell_type": "code",
   "execution_count": null,
   "id": "f5b443d9",
   "metadata": {},
   "outputs": [],
   "source": [
    "df[['error_equity_constant'] + columns_alpha_error].loc['2000':].plot(color=['#1f77b4'] + colors)\n",
    "\n",
    "plt.legend(['constant'] + plot_labels, frameon=False)\n",
    "plt.ylabel('Model prediction error (in trillions)')\n",
    "plt.savefig('plots/backtesterrorpower.png',bbox_inches='tight');"
   ]
  },
  {
   "cell_type": "markdown",
   "id": "b03e08d9-b9e7-4432-a100-2ef7364830ff",
   "metadata": {},
   "source": [
    "The backtest above uses the data starting from $2000$. Since the starting date might potentially affect the outcomes of the backtest, we conduct following backtests starting from 1990, 1995, 2000, 2005 and 2010, respectively. "
   ]
  },
  {
   "cell_type": "code",
   "execution_count": null,
   "id": "7d81eecb-ea91-49b1-9302-5132f433572e",
   "metadata": {},
   "outputs": [],
   "source": [
    "startyears = ['1990', '1995', '2000', '2005']"
   ]
  },
  {
   "cell_type": "code",
   "execution_count": null,
   "id": "c043744f-b5e2-498f-95f6-ee4c1324c88a",
   "metadata": {},
   "outputs": [],
   "source": [
    "df_error = pd.DataFrame()\n",
    "\n",
    "for t in startyears:\n",
    "    error_tmp = pd.DataFrame([(df['equity'] - df['equity'].shift(1)).loc[t:].abs().mean()])\n",
    "    error_tmp = pd.concat([error_tmp, df[columns_alpha_error].loc[t:].abs().mean()])\n",
    "    df_error = pd.concat([df_error, error_tmp], axis=1)\n",
    "\n",
    "df_error.index = ['Constant error'] + plot_labels\n",
    "df_error.columns = pd.MultiIndex.from_product([['Starting year'], startyears])"
   ]
  },
  {
   "cell_type": "code",
   "execution_count": null,
   "id": "9d476ab6-bd7c-4a04-8cc6-398e85075c11",
   "metadata": {
    "scrolled": true
   },
   "outputs": [],
   "source": [
    "error_style = (df_error.style.format('{:.2f}')\n",
    "            .format_index(\"\\\\textbf{{{}}}\", axis=1)\n",
    "            .format_index(\"\\\\textbf{{\\\\boldmath{{{}}}}}\", axis=0)\n",
    "              )\n",
    "print(error_style.to_latex(position=\"!ht\", hrules=True, multicol_align = \"l\",\n",
    "                           caption=\"Comparison of average absolute prediction errors (in trillions).\", \n",
    "                           label = \"alpha_error_compare\", position_float = \"centering\"))"
   ]
  },
  {
   "cell_type": "markdown",
   "id": "01118a53-e1d2-4d7f-84fe-4e223e0d764b",
   "metadata": {},
   "source": [
    "### Reverse model"
   ]
  },
  {
   "cell_type": "markdown",
   "id": "3e3e8211",
   "metadata": {},
   "source": [
    "Now we consider the model reversely (the dual model). Instead of using the bond data as model input, we now use the equity data as the model input. "
   ]
  },
  {
   "cell_type": "code",
   "execution_count": null,
   "id": "b3f7099e",
   "metadata": {},
   "outputs": [],
   "source": [
    "columns_alpha_tilde = ['alpha_tilde_' + str(n) for n in nlengths]\n",
    "columns_alpha_tilde_forecast = ['forecast_alpha_tilde_' + str(n) for n in nlengths]\n",
    "columns_alpha_tilde_error = ['error_alpha_tilde_' + str(n) for n in nlengths]\n",
    "\n",
    "for a in columns_alpha_tilde:\n",
    "    df[a] = np.nan"
   ]
  },
  {
   "cell_type": "code",
   "execution_count": null,
   "id": "0d68247b",
   "metadata": {},
   "outputs": [],
   "source": [
    "for (n, a) in zip(nlengths, columns_alpha_tilde):\n",
    "    for i in range(len(df) - n + 1):\n",
    "        x = df.iloc[i:i+n]['equity_ret']\n",
    "        y = df.iloc[i:i+n]['bond_ret']\n",
    "        result = minimize(loss_function1, 1, args=(x, y)) #choose initial value as 1\n",
    "        df[a].iloc[n - 1 + i] = np.maximum(result.x, 0)"
   ]
  },
  {
   "cell_type": "code",
   "execution_count": null,
   "id": "9e2d9645",
   "metadata": {},
   "outputs": [],
   "source": [
    "df[columns_alpha_tilde].loc['2000':].plot(color=colors)\n",
    "plt.ylabel('$\\\\tilde{\\\\alpha}^*$')\n",
    "plt.legend(plot_labels, frameon=False);"
   ]
  },
  {
   "cell_type": "code",
   "execution_count": null,
   "id": "b18c8bda",
   "metadata": {},
   "outputs": [],
   "source": [
    "for (f, a) in zip(columns_alpha_tilde_forecast, columns_alpha_tilde):\n",
    "    df[f] = df['bond'].shift(1) * (df['equity_ret'] ** df[a].shift(1))"
   ]
  },
  {
   "cell_type": "code",
   "execution_count": null,
   "id": "8d8fe253",
   "metadata": {},
   "outputs": [],
   "source": [
    "df[['bond'] + columns_alpha_tilde_forecast].loc['2000':].plot(color=['#1f77b4'] + colors)\n",
    "plt.legend(['Bond observations'] + ['Backtest bond value with ' + p for p in plot_labels], frameon=False);\n",
    "plt.ylabel('Total capitalization (in trillions)');"
   ]
  },
  {
   "cell_type": "code",
   "execution_count": null,
   "id": "29328ddf",
   "metadata": {},
   "outputs": [],
   "source": [
    "df['error_bond_constant'] = df['bond'] - df['bond'].shift(1)\n",
    "\n",
    "for (e, f) in zip(columns_alpha_tilde_error, columns_alpha_tilde_forecast):\n",
    "    df[e] = df['bond'] - df[f]"
   ]
  },
  {
   "cell_type": "code",
   "execution_count": null,
   "id": "9a332e31",
   "metadata": {},
   "outputs": [],
   "source": [
    "df[['error_bond_constant'] + columns_alpha_tilde_error].loc['2000':].plot(color=['#1f77b4'] + colors)\n",
    "\n",
    "plt.legend(['constant'] + plot_labels, frameon=False)\n",
    "plt.ylabel('Model prediction error (in trillions)');"
   ]
  },
  {
   "cell_type": "code",
   "execution_count": null,
   "id": "47a91605",
   "metadata": {},
   "outputs": [],
   "source": [
    "df_error_tilde = pd.DataFrame()\n",
    "\n",
    "for t in startyears:\n",
    "    error_tmp = pd.DataFrame([(df['bond'] - df['bond'].shift(1)).loc[t:].abs().mean()])\n",
    "    error_tmp = pd.concat([error_tmp, df[columns_alpha_tilde_error].loc[t:].abs().mean()])\n",
    "    df_error_tilde = pd.concat([df_error_tilde, error_tmp], axis=1)\n",
    "\n",
    "df_error_tilde.index = ['Constant error'] + plot_labels\n",
    "df_error_tilde.columns = pd.MultiIndex.from_product([['Starting year'], startyears])\n",
    "\n",
    "df_error_tilde.round(2)"
   ]
  },
  {
   "cell_type": "code",
   "execution_count": null,
   "id": "4779be2c",
   "metadata": {},
   "outputs": [],
   "source": []
  },
  {
   "cell_type": "code",
   "execution_count": null,
   "id": "081facc5",
   "metadata": {},
   "outputs": [],
   "source": []
  },
  {
   "cell_type": "code",
   "execution_count": null,
   "id": "4312a5db",
   "metadata": {},
   "outputs": [],
   "source": []
  }
 ],
 "metadata": {
  "kernelspec": {
   "display_name": "Python 3 (ipykernel)",
   "language": "python",
   "name": "python3"
  },
  "language_info": {
   "codemirror_mode": {
    "name": "ipython",
    "version": 3
   },
   "file_extension": ".py",
   "mimetype": "text/x-python",
   "name": "python",
   "nbconvert_exporter": "python",
   "pygments_lexer": "ipython3",
   "version": "3.11.5"
  }
 },
 "nbformat": 4,
 "nbformat_minor": 5
}
